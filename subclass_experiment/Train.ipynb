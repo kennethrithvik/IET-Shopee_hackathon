{
 "cells": [
  {
   "cell_type": "code",
   "execution_count": 1,
   "metadata": {
    "collapsed": true
   },
   "outputs": [],
   "source": [
    "#import packages \n",
    "\n",
    "from glob import glob\n",
    "import pandas as pd\n",
    "import os\n",
    "import shutil\n",
    "import math\n",
    "import numpy as np\n",
    "\n",
    "folder_path=\"./dataset/subset/\"\n",
    "folders = glob(folder_path+'complete/*')\n",
    "\n",
    "train_split=0.7\n",
    "no_of_images=0"
   ]
  },
  {
   "cell_type": "code",
   "execution_count": 2,
   "metadata": {},
   "outputs": [],
   "source": [
    "#split data to training and testing\n",
    "\n",
    "def createFolder(path):\n",
    "\tif os.path.exists(path):\n",
    "\t\tshutil.rmtree(path)\n",
    "\tos.makedirs(path)\n",
    "\n",
    "createFolder(folder_path+\"train\")\n",
    "createFolder(folder_path+\"test\")\n",
    "\n",
    "for folder in folders:\n",
    "    images = glob(folder+'/*.jpg')\n",
    "    name = folder.split('/')[-1]\n",
    "    createFolder(folder_path+\"train/\"+name)\n",
    "    createFolder(folder_path+\"test/\"+name)\n",
    "    train_images=math.floor(train_split*len(images))\n",
    "    for i,image in enumerate(images):\n",
    "        if(i<=train_images-1):\n",
    "            shutil.copy(image,folder_path+\"train/\"+name)\n",
    "        else:\n",
    "            shutil.copy(image,folder_path+\"test/\"+name)\n",
    "        no_of_images+=1\n",
    "    print(name)\n"
   ]
  },
  {
   "cell_type": "code",
   "execution_count": 3,
   "metadata": {},
   "outputs": [
    {
     "name": "stderr",
     "output_type": "stream",
     "text": [
      "Using TensorFlow backend.\n"
     ]
    },
    {
     "name": "stdout",
     "output_type": "stream",
     "text": [
      "_________________________________________________________________\n",
      "Layer (type)                 Output Shape              Param #   \n",
      "=================================================================\n",
      "conv2d_1 (Conv2D)            (None, 62, 62, 32)        896       \n",
      "_________________________________________________________________\n",
      "max_pooling2d_1 (MaxPooling2 (None, 31, 31, 32)        0         \n",
      "_________________________________________________________________\n",
      "dropout_1 (Dropout)          (None, 31, 31, 32)        0         \n",
      "_________________________________________________________________\n",
      "conv2d_2 (Conv2D)            (None, 29, 29, 32)        9248      \n",
      "_________________________________________________________________\n",
      "max_pooling2d_2 (MaxPooling2 (None, 14, 14, 32)        0         \n",
      "_________________________________________________________________\n",
      "dropout_2 (Dropout)          (None, 14, 14, 32)        0         \n",
      "_________________________________________________________________\n",
      "flatten_1 (Flatten)          (None, 6272)              0         \n",
      "_________________________________________________________________\n",
      "dense_1 (Dense)              (None, 128)               802944    \n",
      "_________________________________________________________________\n",
      "dense_2 (Dense)              (None, 5)                 645       \n",
      "=================================================================\n",
      "Total params: 813,733\n",
      "Trainable params: 813,733\n",
      "Non-trainable params: 0\n",
      "_________________________________________________________________\n"
     ]
    }
   ],
   "source": [
    "# Importing the Keras libraries and packages\n",
    "from keras.models import Sequential,save_model,load_model\n",
    "from keras.layers import Conv2D\n",
    "from keras.layers import MaxPooling2D\n",
    "from keras.layers import Flatten\n",
    "from keras.layers.core import Dense, Dropout\n",
    "from keras.applications import VGG16,Xception,ResNet50,nasnet\n",
    "from keras.callbacks import ModelCheckpoint,EarlyStopping, TensorBoard\n",
    "\n",
    "# Initialising the CNN\n",
    "classifier = Sequential()\n",
    "# Step 1 - Convolution\n",
    "classifier.add(Conv2D(32, (3, 3), input_shape = (64, 64, 3), activation = 'relu'))\n",
    "# Step 2 - Pooling\n",
    "classifier.add(MaxPooling2D(pool_size = (2, 2)))\n",
    "classifier.add(Dropout(0.2))\n",
    "# Adding a second convolutional layer\n",
    "classifier.add(Conv2D(32, (3, 3), activation = 'relu'))\n",
    "classifier.add(MaxPooling2D(pool_size = (2, 2)))\n",
    "classifier.add(Dropout(0.2))\n",
    "# Step 3 - Flattening\n",
    "classifier.add(Flatten())\n",
    "# Step 4 - Full connection\n",
    "classifier.add(Dense(units = 128, activation = 'relu'))\n",
    "classifier.add(Dense(units = 5, activation = 'softmax'))\n",
    "# Compiling the CNN\n",
    "classifier.compile(optimizer = 'adam',\n",
    "                   loss = 'categorical_crossentropy', \n",
    "                   metrics = ['accuracy'])\n",
    "classifier.summary()\n"
   ]
  },
  {
   "cell_type": "code",
   "execution_count": null,
   "metadata": {},
   "outputs": [
    {
     "name": "stdout",
     "output_type": "stream",
     "text": [
      "Found 0 images belonging to 0 classes.\n",
      "Found 0 images belonging to 0 classes.\n",
      "Epoch 1/30\n"
     ]
    }
   ],
   "source": [
    "\n",
    "# Part 2 - Fitting the CNN to the images\n",
    "from keras.preprocessing.image import ImageDataGenerator\n",
    "\n",
    "train_datagen = ImageDataGenerator(rescale = 1./255,\n",
    "                                   horizontal_flip=True,\n",
    "                                   rotation_range = 0.2,\n",
    "                                   zoom_range = 0.2,\n",
    "                                   width_shift_range = 0.2,\n",
    "                                   height_shift_range = 0.2,)\n",
    "\n",
    "test_datagen = ImageDataGenerator(rescale = 1./255)\n",
    "\n",
    "training_set = train_datagen.flow_from_directory(folder_path+\"train/\",\n",
    "                                                 target_size = (64, 64),\n",
    "                                                 batch_size = 32,\n",
    "                                                 class_mode = 'categorical')\n",
    "\n",
    "test_set = test_datagen.flow_from_directory(folder_path+\"test/\",\n",
    "                                            target_size = (64, 64),\n",
    "                                            batch_size = 32,\n",
    "                                            class_mode = 'categorical')\n",
    "\n",
    "tensorboard=[TensorBoard(log_dir='logs/', histogram_freq=0, batch_size=32, write_graph=True, \n",
    "                      write_grads=False, write_images=False, embeddings_freq=0, embeddings_layer_names=None, \n",
    "                      embeddings_metadata=None)]\n",
    "\n",
    "checkpointer = ModelCheckpoint(filepath='output_models', verbose=1, save_best_only=True)\n",
    "\n",
    "classifier.fit_generator(training_set,steps_per_epoch = 12500/25,\n",
    "                         epochs = 30,\n",
    "                         validation_data = test_set,\n",
    "                         validation_steps = 30,\n",
    "                         callbacks =tensorboard)"
   ]
  },
  {
   "cell_type": "code",
   "execution_count": 11,
   "metadata": {
    "collapsed": true
   },
   "outputs": [],
   "source": [
    "classifier.save('cnn_82_5.h5')"
   ]
  },
  {
   "cell_type": "code",
   "execution_count": 20,
   "metadata": {
    "collapsed": true
   },
   "outputs": [],
   "source": [
    "from sklearn.preprocessing import LabelEncoder\n",
    "from sklearn.metrics import confusion_matrix, classification_report"
   ]
  },
  {
   "cell_type": "code",
   "execution_count": 8,
   "metadata": {
    "collapsed": true
   },
   "outputs": [],
   "source": [
    "classifier = load_model('cnn_82_5.h5')"
   ]
  },
  {
   "cell_type": "code",
   "execution_count": 15,
   "metadata": {
    "collapsed": true
   },
   "outputs": [],
   "source": [
    "y_pred = classifier.predict_generator(test_set)\n",
    "y_pred_class = np.argmax(y_pred,axis = 1) "
   ]
  },
  {
   "cell_type": "code",
   "execution_count": 17,
   "metadata": {
    "collapsed": true
   },
   "outputs": [],
   "source": [
    "le = LabelEncoder()\n",
    "j = []\n",
    "for i in test_set.filenames: \n",
    "    j.append(i.split(\"\\\\\")[0])\n",
    "le.fit(j)\n",
    "valid_actual = le.transform(j)classifier = load_model('cnn_82_5.h5')"
   ]
  },
  {
   "cell_type": "code",
   "execution_count": 21,
   "metadata": {},
   "outputs": [
    {
     "name": "stdout",
     "output_type": "stream",
     "text": [
      "[[154 102 138 210 191]\n",
      " [117  82 101 156 122]\n",
      " [108  70 101 172 123]\n",
      " [209 120 146 248 208]\n",
      " [152 115 162 254 192]]\n",
      "             precision    recall  f1-score   support\n",
      "\n",
      "    class 0       0.21      0.19      0.20       795\n",
      "    class 1       0.17      0.14      0.15       578\n",
      "    class 2       0.16      0.18      0.17       574\n",
      "     class3       0.24      0.27      0.25       931\n",
      "     class4       0.23      0.22      0.22       875\n",
      "\n",
      "avg / total       0.21      0.21      0.21      3753\n",
      "\n"
     ]
    }
   ],
   "source": [
    "confusion_mtx = confusion_matrix(valid_actual, y_pred_class) \n",
    "print(confusion_mtx)\n",
    "target_names = ['class 0', 'class 1', 'class 2', 'class3','class4']\n",
    "print(classification_report(valid_actual, y_pred_class, target_names=target_names))"
   ]
  },
  {
   "cell_type": "code",
   "execution_count": null,
   "metadata": {
    "collapsed": true
   },
   "outputs": [],
   "source": []
  }
 ],
 "metadata": {
  "kernelspec": {
   "display_name": "Python 3",
   "language": "python",
   "name": "python3"
  },
  "language_info": {
   "codemirror_mode": {
    "name": "ipython",
    "version": 3
   },
   "file_extension": ".py",
   "mimetype": "text/x-python",
   "name": "python",
   "nbconvert_exporter": "python",
   "pygments_lexer": "ipython3",
   "version": "3.6.3"
  }
 },
 "nbformat": 4,
 "nbformat_minor": 2
}
