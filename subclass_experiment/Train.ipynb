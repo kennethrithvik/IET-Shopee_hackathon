{
 "cells": [
  {
   "cell_type": "code",
   "execution_count": 1,
   "metadata": {
    "collapsed": true
   },
   "outputs": [],
   "source": [
    "#import packages \n",
    "\n",
    "from glob import glob\n",
    "import pandas as pd\n",
    "import os\n",
    "import shutil\n",
    "import math\n",
    "import numpy as np\n",
    "\n",
    "folder_path=\"./dataset/subset/\"\n",
    "folders = glob(folder_path+'complete/*')\n",
    "\n",
    "train_split=0.7\n",
    "no_of_images=0"
   ]
  },
  {
   "cell_type": "code",
   "execution_count": 2,
   "metadata": {},
   "outputs": [
    {
     "data": {
      "text/plain": [
       "'\\ndef createFolder(path):\\n\\tif os.path.exists(path):\\n\\t\\tshutil.rmtree(path)\\n\\tos.makedirs(path)\\n\\ncreateFolder(folder_path+\"train\")\\ncreateFolder(folder_path+\"test\")\\n\\nfor folder in folders:\\n    images = glob(folder+\\'/*.jpg\\')\\n    name = folder.split(\\'/\\')[-1]\\n    createFolder(folder_path+\"train/\"+name)\\n    createFolder(folder_path+\"test/\"+name)\\n    train_images=math.floor(train_split*len(images))\\n    for i,image in enumerate(images):\\n        if(i<=train_images-1):\\n            shutil.copy(image,folder_path+\"train/\"+name)\\n        else:\\n            shutil.copy(image,folder_path+\"test/\"+name)\\n        no_of_images+=1\\n    print(name)\\n'"
      ]
     },
     "execution_count": 2,
     "metadata": {},
     "output_type": "execute_result"
    }
   ],
   "source": [
    "#split data to training and testing\n",
    "'''\n",
    "def createFolder(path):\n",
    "\tif os.path.exists(path):\n",
    "\t\tshutil.rmtree(path)\n",
    "\tos.makedirs(path)\n",
    "\n",
    "createFolder(folder_path+\"train\")\n",
    "createFolder(folder_path+\"test\")\n",
    "\n",
    "for folder in folders:\n",
    "    images = glob(folder+'/*.jpg')\n",
    "    name = folder.split('/')[-1]\n",
    "    createFolder(folder_path+\"train/\"+name)\n",
    "    createFolder(folder_path+\"test/\"+name)\n",
    "    train_images=math.floor(train_split*len(images))\n",
    "    for i,image in enumerate(images):\n",
    "        if(i<=train_images-1):\n",
    "            shutil.copy(image,folder_path+\"train/\"+name)\n",
    "        else:\n",
    "            shutil.copy(image,folder_path+\"test/\"+name)\n",
    "        no_of_images+=1\n",
    "    print(name)\n",
    "'''"
   ]
  },
  {
   "cell_type": "code",
   "execution_count": 3,
   "metadata": {},
   "outputs": [
    {
     "name": "stderr",
     "output_type": "stream",
     "text": [
      "Using TensorFlow backend.\n"
     ]
    },
    {
     "name": "stdout",
     "output_type": "stream",
     "text": [
      "Found 8751 images belonging to 5 classes.\n",
      "Found 3753 images belonging to 5 classes.\n"
     ]
    }
   ],
   "source": [
    "#generate train and test data\n",
    "\n",
    "from keras.preprocessing.image import ImageDataGenerator\n",
    "\n",
    "train_datagen = ImageDataGenerator(rescale = 1./255,\n",
    "                                   horizontal_flip=True,\n",
    "                                   rotation_range = 0.2,\n",
    "                                   zoom_range = 0.2,\n",
    "                                   width_shift_range = 0.2,\n",
    "                                   height_shift_range = 0.2,)\n",
    "\n",
    "test_datagen = ImageDataGenerator(rescale = 1./255)\n",
    "\n",
    "training_set = train_datagen.flow_from_directory(folder_path+\"train/\",\n",
    "                                                 target_size = (64, 64),\n",
    "                                                 batch_size = 32,\n",
    "                                                 class_mode = 'categorical')\n",
    "\n",
    "test_set = test_datagen.flow_from_directory(folder_path+\"test/\",\n",
    "                                            target_size = (64, 64),\n",
    "                                            batch_size = 32,\n",
    "                                            class_mode = 'categorical')"
   ]
  },
  {
   "cell_type": "code",
   "execution_count": 4,
   "metadata": {},
   "outputs": [
    {
     "name": "stdout",
     "output_type": "stream",
     "text": [
      "_________________________________________________________________\n",
      "Layer (type)                 Output Shape              Param #   \n",
      "=================================================================\n",
      "conv2d_1 (Conv2D)            (None, 62, 62, 32)        896       \n",
      "_________________________________________________________________\n",
      "max_pooling2d_1 (MaxPooling2 (None, 31, 31, 32)        0         \n",
      "_________________________________________________________________\n",
      "dropout_1 (Dropout)          (None, 31, 31, 32)        0         \n",
      "_________________________________________________________________\n",
      "conv2d_2 (Conv2D)            (None, 29, 29, 32)        9248      \n",
      "_________________________________________________________________\n",
      "max_pooling2d_2 (MaxPooling2 (None, 14, 14, 32)        0         \n",
      "_________________________________________________________________\n",
      "dropout_2 (Dropout)          (None, 14, 14, 32)        0         \n",
      "_________________________________________________________________\n",
      "flatten_1 (Flatten)          (None, 6272)              0         \n",
      "_________________________________________________________________\n",
      "dense_1 (Dense)              (None, 128)               802944    \n",
      "_________________________________________________________________\n",
      "dense_2 (Dense)              (None, 5)                 645       \n",
      "=================================================================\n",
      "Total params: 813,733\n",
      "Trainable params: 813,733\n",
      "Non-trainable params: 0\n",
      "_________________________________________________________________\n"
     ]
    }
   ],
   "source": [
    "# Importing the Keras libraries and packages\n",
    "from keras.models import Sequential,save_model,load_model\n",
    "from keras.layers import Conv2D\n",
    "from keras.layers import MaxPooling2D\n",
    "from keras.layers import Flatten\n",
    "from keras.layers.core import Dense, Dropout\n",
    "from keras.applications import VGG16,Xception,ResNet50,nasnet\n",
    "from keras.callbacks import ModelCheckpoint,EarlyStopping, TensorBoard\n",
    "from keras.optimizers import SGD,rmsprop,Adam\n",
    "\n",
    "# Initialising the CNN\n",
    "classifier = Sequential()\n",
    "# Step 1 - Convolution\n",
    "classifier.add(Conv2D(32, (3, 3), input_shape = (64, 64, 3), activation = 'relu'))\n",
    "# Step 2 - Pooling\n",
    "classifier.add(MaxPooling2D(pool_size = (2, 2)))\n",
    "classifier.add(Dropout(0.2))\n",
    "# Adding a second convolutional layer\n",
    "classifier.add(Conv2D(32, (3, 3), activation = 'relu'))\n",
    "classifier.add(MaxPooling2D(pool_size = (2, 2)))\n",
    "classifier.add(Dropout(0.2))\n",
    "# Step 3 - Flattening\n",
    "classifier.add(Flatten())\n",
    "# Step 4 - Full connection\n",
    "classifier.add(Dense(units = 128, activation = 'relu'))\n",
    "classifier.add(Dense(units = 5, activation = 'softmax'))\n",
    "# Compiling the CNN\n",
    "# opt = rmsprop(lr=0.0001, decay=1e-6)\n",
    "# opt = Adam(lr=0.001, beta_1=0.9, beta_2=0.999, epsilon=None, decay=0.0, amsgrad=True)\n",
    "optimizer = SGD(lr=0.01, decay=1e-6, momentum=0.9, nesterov=True)\n",
    "classifier.compile(optimizer = 'adam',\n",
    "                   loss = 'categorical_crossentropy', \n",
    "                   metrics = ['accuracy'])\n",
    "classifier.summary()\n"
   ]
  },
  {
   "cell_type": "code",
   "execution_count": null,
   "metadata": {
    "collapsed": true
   },
   "outputs": [],
   "source": [
    "\n",
    "# Part 2 - Fitting the CNN to the images\n",
    "\n",
    "tensorboard=TensorBoard(log_dir='./logs/', histogram_freq=0, \n",
    "                         batch_size=32, write_graph=True, \n",
    "                         write_grads=True, write_images=True)\n",
    "\n",
    "checkpointer = ModelCheckpoint(filepath='./output_models/Model{epoch:02d}_{val_acc:.2f}.h5', \n",
    "                               verbose=1, save_best_only=True)\n",
    "\n",
    "early_stopping = EarlyStopping(monitor='val_loss', min_delta=0.0001, \n",
    "                               patience=5, verbose=1, mode='auto')\n",
    "\n",
    "classifier.fit_generator(training_set,\n",
    "                         steps_per_epoch = 600,\n",
    "                         epochs = 1000,\n",
    "                         validation_data = test_set,\n",
    "                         validation_steps = 30,\n",
    "                         callbacks =[tensorboard,early_stopping,checkpointer])"
   ]
  },
  {
   "cell_type": "code",
   "execution_count": 5,
   "metadata": {
    "collapsed": true
   },
   "outputs": [],
   "source": [
    "classifier.save('./output_models/cnn_82_5.h5')"
   ]
  },
  {
   "cell_type": "code",
   "execution_count": 44,
   "metadata": {
    "collapsed": true
   },
   "outputs": [],
   "source": [
    "from sklearn.preprocessing import LabelEncoder\n",
    "from sklearn.metrics import confusion_matrix, classification_report"
   ]
  },
  {
   "cell_type": "code",
   "execution_count": 45,
   "metadata": {
    "collapsed": true
   },
   "outputs": [],
   "source": [
    "classifier = load_model('./output_models/cnn_867.h5')"
   ]
  },
  {
   "cell_type": "code",
   "execution_count": 46,
   "metadata": {},
   "outputs": [
    {
     "name": "stdout",
     "output_type": "stream",
     "text": [
      "Found 3753 images belonging to 5 classes.\n"
     ]
    }
   ],
   "source": [
    "final_test_set = test_datagen.flow_from_directory(folder_path+\"test/\",\n",
    "                                            shuffle=False,\n",
    "                                            target_size = (64, 64),\n",
    "                                            batch_size = 32,\n",
    "                                            class_mode = 'categorical')\n",
    "\n",
    "y_pred = classifier.predict_generator(final_test_set)\n",
    "df=pd.DataFrame(y_pred,columns=['c0','c1','c2','c3','c4'])\n",
    "y_pred = np.argmax(y_pred,axis = 1) \n",
    "y_actual = final_test_set.classes\n",
    "df[\"filenames\"]=final_test_set.filenames\n",
    "df[\"actual\"]=y_actual\n",
    "df[\"predicted\"]=y_pred\n",
    "df.to_csv(\"./output_models/predictions_custom_cnn_867.csv\")\n",
    "classnames=[]\n",
    "for classname in final_test_set.class_indices:\n",
    "    classnames.append(classname)\n"
   ]
  },
  {
   "cell_type": "code",
   "execution_count": 48,
   "metadata": {},
   "outputs": [
    {
     "name": "stdout",
     "output_type": "stream",
     "text": [
      "[[667  40  27  41  20]\n",
      " [ 25 498  25  22   8]\n",
      " [ 29  36 390  12 107]\n",
      " [ 17  10   4 893   7]\n",
      " [ 15  25  35  11 789]]\n",
      "                    precision    recall  f1-score   support\n",
      "\n",
      "           BabyHat       0.89      0.84      0.86       795\n",
      "         BabyPants       0.82      0.86      0.84       578\n",
      "         BabyShirt       0.81      0.68      0.74       574\n",
      "  womencasualshoes       0.91      0.96      0.94       931\n",
      "womenlongsleevetop       0.85      0.90      0.87       875\n",
      "\n",
      "       avg / total       0.86      0.86      0.86      3753\n",
      "\n"
     ]
    }
   ],
   "source": [
    "confusion_mtx = confusion_matrix(y_actual, y_pred) \n",
    "print(confusion_mtx)\n",
    "target_names = classnames\n",
    "print(classification_report(y_actual, y_pred, target_names=target_names))"
   ]
  },
  {
   "cell_type": "code",
   "execution_count": 73,
   "metadata": {},
   "outputs": [
    {
     "data": {
      "image/png": "[encoded data removed]",
      "text/plain": [
       "<matplotlib.figure.Figure at 0x7fc94d4f8a58>"
      ]
     },
     "metadata": {},
     "output_type": "display_data"
    }
   ],
   "source": [
    "-"
   ]
  },
  {
   "cell_type": "code",
   "execution_count": null,
   "metadata": {
    "collapsed": true
   },
   "outputs": [],
   "source": []
  }
 ],
 "metadata": {
  "kernelspec": {
   "display_name": "Python 3",
   "language": "python",
   "name": "python3"
  },
  "language_info": {
   "codemirror_mode": {
    "name": "ipython",
    "version": 3
   },
   "file_extension": ".py",
   "mimetype": "text/x-python",
   "name": "python",
   "nbconvert_exporter": "python",
   "pygments_lexer": "ipython3",
   "version": "3.6.3"
  }
 },
 "nbformat": 4,
 "nbformat_minor": 2
}
